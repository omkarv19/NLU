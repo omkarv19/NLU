{
 "cells": [
  {
   "cell_type": "code",
   "execution_count": 2,
   "metadata": {},
   "outputs": [],
   "source": [
    "import torch\n",
    "from transformers import Wav2Vec2ForCTC, Wav2Vec2Tokenizer\n",
    "import librosa"
   ]
  },
  {
   "cell_type": "code",
   "execution_count": 3,
   "metadata": {},
   "outputs": [
    {
     "name": "stderr",
     "output_type": "stream",
     "text": [
      "Downloading: 100%|██████████| 291/291 [00:00<00:00, 36.5kB/s]\n",
      "Downloading: 100%|██████████| 163/163 [00:00<00:00, 30.3kB/s]\n",
      "Downloading: 100%|██████████| 85.0/85.0 [00:00<?, ?B/s]\n",
      "Downloading: 100%|██████████| 1.56k/1.56k [00:00<?, ?B/s]\n",
      "The tokenizer class you load from this checkpoint is not the same type as the class this function is called from. It may result in unexpected tokenization. \n",
      "The tokenizer class you load from this checkpoint is 'Wav2Vec2CTCTokenizer'. \n",
      "The class this function is called from is 'Wav2Vec2Tokenizer'.\n",
      "d:\\APPLICATION\\Speech_to_text\\speech_to_text\\lib\\site-packages\\transformers\\models\\wav2vec2\\tokenization_wav2vec2.py:750: FutureWarning: The class `Wav2Vec2Tokenizer` is deprecated and will be removed in version 5 of Transformers. Please use `Wav2Vec2Processor` or `Wav2Vec2CTCTokenizer` instead.\n",
      "  warnings.warn(\n",
      "Downloading: 100%|██████████| 360M/360M [07:36<00:00, 827kB/s]     \n",
      "Some weights of Wav2Vec2ForCTC were not initialized from the model checkpoint at facebook/wav2vec2-base-960h and are newly initialized: ['wav2vec2.masked_spec_embed']\n",
      "You should probably TRAIN this model on a down-stream task to be able to use it for predictions and inference.\n"
     ]
    }
   ],
   "source": [
    "#load pre-trained model and tokenizer\n",
    "tokenizer = Wav2Vec2Tokenizer.from_pretrained(\"facebook/wav2vec2-base-960h\")\n",
    "model = Wav2Vec2ForCTC.from_pretrained(\"facebook/wav2vec2-base-960h\")"
   ]
  },
  {
   "cell_type": "code",
   "execution_count": 4,
   "metadata": {},
   "outputs": [],
   "source": [
    "#load audio file\n",
    "speech, rate = librosa.load(\"sales_call_telephone_marketers.wav\",sr=16000)"
   ]
  },
  {
   "cell_type": "code",
   "execution_count": 5,
   "metadata": {},
   "outputs": [],
   "source": [
    "input_values = tokenizer( speech, return_tensors = 'pt').input_values"
   ]
  },
  {
   "cell_type": "code",
   "execution_count": 6,
   "metadata": {},
   "outputs": [],
   "source": [
    "logits = model(input_values).logits"
   ]
  },
  {
   "cell_type": "code",
   "execution_count": 7,
   "metadata": {},
   "outputs": [],
   "source": [
    "predicted_ids = torch.argmax(logits, dim =-1)"
   ]
  },
  {
   "cell_type": "code",
   "execution_count": 8,
   "metadata": {},
   "outputs": [],
   "source": [
    "transcriptions = tokenizer.decode(predicted_ids[0])"
   ]
  },
  {
   "cell_type": "code",
   "execution_count": 9,
   "metadata": {},
   "outputs": [
    {
     "name": "stdout",
     "output_type": "stream",
     "text": [
      "HELLO I NANCY THIS IS LIKE FROM EIGHTIENT INCORPORATION YES HOW CAN I HELP YOU NANCY YOU HAVE BEEN USING OUR PREEPA CONNECTION FOR A COUPLE OF YEARS NOW RIGHT YE THAT'S RIGHT HOW WOULD YOU LIKE A POSTPA CONNECTION THAT ALLOWS YOU TO MAKE FREE UNLIMITED VOICE CALLS TO THREE EIGHTENT NUMBERS I WOULD LOVE THAT BUT WHAT'S THE CATCH THERE'S NO CATCH THERE WILL BE A MONTHLY RENTAL WHICH YOU WILL HAVE TO PAY LIKE ANY OTHER POSTPAID CONNECTION FANTASTIC SIGN ME UP\n"
     ]
    }
   ],
   "source": [
    "print(transcriptions)"
   ]
  }
 ],
 "metadata": {
  "interpreter": {
   "hash": "6815bcc53497493902742fca1555e7c7494d11c81415dd63c97e39cb1d6c6889"
  },
  "kernelspec": {
   "display_name": "Python 3.9.2 ('speech_to_text': venv)",
   "language": "python",
   "name": "python3"
  },
  "language_info": {
   "codemirror_mode": {
    "name": "ipython",
    "version": 3
   },
   "file_extension": ".py",
   "mimetype": "text/x-python",
   "name": "python",
   "nbconvert_exporter": "python",
   "pygments_lexer": "ipython3",
   "version": "3.9.2"
  },
  "orig_nbformat": 4
 },
 "nbformat": 4,
 "nbformat_minor": 2
}
